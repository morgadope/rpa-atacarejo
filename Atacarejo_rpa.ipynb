{
 "cells": [
  {
   "cell_type": "markdown",
   "metadata": {},
   "source": [
    "# Bibiotecas Necessárias\n"
   ]
  },
  {
   "cell_type": "code",
   "execution_count": null,
   "metadata": {},
   "outputs": [],
   "source": [
    "from selenium.webdriver import Chrome\n",
    "from time import sleep, time\n",
    "from selenium.webdriver.common.keys import Keys\n",
    "from datetime import timedelta, datetime\n",
    "from selenium.webdriver.support.expected_conditions import frame_to_be_available_and_switch_to_it\n",
    "from selenium.webdriver.support.wait import WebDriverWait\n",
    "from rich.progress import track\n",
    "from rich import print\n",
    "from selenium.common.exceptions import NoSuchElementException\n"
   ]
  },
  {
   "cell_type": "markdown",
   "metadata": {},
   "source": [
    "# Definindo Navegador"
   ]
  },
  {
   "cell_type": "code",
   "execution_count": null,
   "metadata": {},
   "outputs": [],
   "source": [
    "driver = Chrome()\n",
    "wdw = WebDriverWait(driver, 10)\n",
    "driver.get('https://4pmktcfixo.umov.me/CenterWeb/?locale=pt_BR#__main__')\n"
   ]
  },
  {
   "cell_type": "markdown",
   "metadata": {},
   "source": [
    "# login\n"
   ]
  },
  {
   "cell_type": "code",
   "execution_count": null,
   "metadata": {},
   "outputs": [],
   "source": [
    "driver.find_element_by_xpath('//*[@id=\"username\"]').send_keys('****')\n",
    "driver.find_element_by_xpath('//*[@id=\"password\"]').send_keys('****')\n",
    "driver.find_element_by_xpath('//*[@id=\"password\"]').send_keys(Keys.ENTER)\n",
    "sleep(5)"
   ]
  },
  {
   "cell_type": "markdown",
   "metadata": {},
   "source": [
    "# Entrando no ambiente de books\n"
   ]
  },
  {
   "cell_type": "code",
   "execution_count": null,
   "metadata": {},
   "outputs": [],
   "source": [
    "# Selecionar book de fotos\n",
    "driver.find_element_by_xpath(\"//a[@href='/CenterWeb/ureport']\").click()"
   ]
  },
  {
   "cell_type": "markdown",
   "metadata": {},
   "source": [
    "# Selecionando Filtro\n"
   ]
  },
  {
   "cell_type": "code",
   "execution_count": null,
   "metadata": {},
   "outputs": [],
   "source": [
    "driver.switch_to.frame(0)\n",
    "driver.find_element_by_xpath('//*[@id=\"filterPanel\"]/div[1]/div[2]/div[2]/div/button').click()  # clicar no filtro\n",
    "driver.find_element_by_xpath( '//*[@id=\"filterPanel\"]/div[1]/div[2]/div[2]/div/ul/li[4]/a/label/input').click()  # Selecionar o filtro\n",
    "\n"
   ]
  },
  {
   "cell_type": "markdown",
   "metadata": {},
   "source": [
    "# Definindo data"
   ]
  },
  {
   "cell_type": "code",
   "execution_count": null,
   "metadata": {},
   "outputs": [],
   "source": [
    "data = datetime.now()\n",
    "\n",
    "if datetime.today().weekday() != 0:\n",
    "    data += timedelta(days=-1)\n",
    "\n",
    "else:\n",
    "    data += timedelta(days=-2)\n",
    "\n",
    "data = (format(data, \"%d/%m/%Y\"))\n",
    "\n",
    "driver.find_element_by_xpath('//*[@id=\"initial-period-filter\"]').click()\n",
    "driver.find_element_by_xpath('//*[@id=\"initial-period-filter\"]').clear()\n",
    "driver.find_element_by_xpath('//*[@id=\"initial-period-filter\"]').send_keys(data)\n",
    "driver.find_element_by_xpath('//*[@id=\"final-period-filter\"]').click()\n",
    "driver.find_element_by_xpath('//*[@id=\"final-period-filter\"]').clear()\n",
    "driver.find_element_by_xpath('//*[@id=\"final-period-filter\"]').send_keys(data)"
   ]
  },
  {
   "cell_type": "markdown",
   "metadata": {},
   "source": [
    "# Método "
   ]
  },
  {
   "cell_type": "code",
   "execution_count": null,
   "metadata": {},
   "outputs": [],
   "source": [
    "def check_exists_by_class_name(name):\n",
    "    try:\n",
    "        driver.find_element_by_class_name(name)\n",
    "    except NoSuchElementException:\n",
    "        return False\n",
    "    return True"
   ]
  },
  {
   "cell_type": "markdown",
   "metadata": {},
   "source": [
    "# Definindo Locais"
   ]
  },
  {
   "cell_type": "code",
   "execution_count": null,
   "metadata": {},
   "outputs": [],
   "source": [
    "\n",
    "locais = [\"dom\",\"o bom\",\"assai\"]\n",
    "\n",
    "for local in track(locais,'fazendo books...'):\n",
    "        driver.find_element_by_xpath('//*[@id=\"filterPanel\"]/div[6]/div[1]/div[2]/div/button').click()\n",
    "        for n in range(0,2):\n",
    "                driver.find_element_by_xpath('//*[@id=\"filterPanel\"]/div[6]/div[1]/div[2]/div/ul/li[2]/a/label/input').click()\n",
    "        driver.find_element_by_xpath('//*[@id=\"filterPanel\"]/div[6]/div[1]/div[2]/div/ul/li[1]/div/input').click()\n",
    "        driver.find_element_by_xpath('//*[@id=\"filterPanel\"]/div[6]/div[1]/div[2]/div/ul/li[1]/div/input').clear()\n",
    "        driver.find_element_by_xpath('//*[@id=\"filterPanel\"]/div[6]/div[1]/div[2]/div/ul/li[1]/div/input').send_keys(local)\n",
    "        sleep(2)\n",
    "        driver.find_element_by_xpath('//*[@id=\"filterPanel\"]/div[6]/div[1]/div[2]/div/ul/li[3]/a/label/input').click() #checkbox dom\n",
    "        sleep(2)\n",
    "        driver.find_element_by_xpath('//*[@id=\"btnFilter\"]').click() #clica em filtrar\n",
    "        sleep(2)\n",
    "        try:\n",
    "            driver.find_elements_by_class_name('nm-tag')\n",
    "        except:\n",
    "            break\n",
    "        sleep(3) \n",
    "        driver.find_element_by_xpath('//*[@id=\"select_photo\"]').click()  # selecionar todas as fotos\n",
    "        sleep(3)\n",
    "        try:\n",
    "            selecionar_todas = driver.find_element_by_xpath('//*[@id=\"select_all_images\"]/a')\n",
    "        except Exception:\n",
    "            print(\"Elemento não localizado!\")\n",
    "        print(selecionar_todas.text)\n",
    "        \n",
    "        bufQuantidadeImagens = str(selecionar_todas.text).split(\" \")\n",
    "        if len(bufQuantidadeImagens) == 8:\n",
    "            texto = (str(selecionar_todas.text).split(\" \"))\n",
    "            quantidadeImagens = int(texto[6])\n",
    "            print (quantidadeImagens)\n",
    "            if (quantidadeImagens > 10):\n",
    "                selecionar_todas.click()\n",
    "        else:\n",
    "            raise Exception(\"\")\n",
    "\n",
    "        driver.find_element_by_xpath('//*[@id=\"photo\"]/div[2]/div[3]/div/div/button').click()\n",
    "        sleep(2)\n",
    "        driver.back()  # volta para pagina anterior\n",
    "        wdw.until(frame_to_be_available_and_switch_to_it)\n",
    "        driver.switch_to.frame(0)\n",
    "        \n",
    "        #git\n",
    "       \n"
   ]
  }
 ],
 "metadata": {
  "interpreter": {
   "hash": "74ab7c6ffe6706754a8af46cc4d18eebe476c74ce21a19282f620e1b1e9919fe"
  },
  "kernelspec": {
   "display_name": "Python 3.8.8 64-bit ('base': conda)",
   "name": "python3"
  },
  "language_info": {
   "codemirror_mode": {
    "name": "ipython",
    "version": 3
   },
   "file_extension": ".py",
   "mimetype": "text/x-python",
   "name": "python",
   "nbconvert_exporter": "python",
   "pygments_lexer": "ipython3",
   "version": "3.8.8"
  },
  "orig_nbformat": 4
 },
 "nbformat": 4,
 "nbformat_minor": 2
}
