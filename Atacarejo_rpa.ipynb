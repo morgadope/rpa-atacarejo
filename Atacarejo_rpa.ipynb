{
 "cells": [
  {
   "cell_type": "markdown",
   "source": [
    "# Bibiotecas Necessárias\r\n"
   ],
   "metadata": {}
  },
  {
   "cell_type": "code",
   "execution_count": null,
   "source": [
    "from selenium.webdriver import Chrome\r\n",
    "from time import sleep, time\r\n",
    "from selenium.webdriver.common.keys import Keys\r\n",
    "from datetime import timedelta, datetime\r\n",
    "from selenium.webdriver.support.expected_conditions import frame_to_be_available_and_switch_to_it\r\n",
    "from selenium.webdriver.support.wait import WebDriverWait\r\n",
    "from rich.progress import track\r\n",
    "from rich import print\r\n",
    "from selenium.common.exceptions import NoSuchElementException\r\n"
   ],
   "outputs": [],
   "metadata": {}
  },
  {
   "cell_type": "markdown",
   "source": [
    "# Definindo Navegador"
   ],
   "metadata": {}
  },
  {
   "cell_type": "code",
   "execution_count": null,
   "source": [
    "driver = Chrome()\r\n",
    "wdw = WebDriverWait(driver, 10)\r\n",
    "driver.get('https://4pmktcfixo.umov.me/CenterWeb/?locale=pt_BR#__main__')\r\n"
   ],
   "outputs": [],
   "metadata": {}
  },
  {
   "cell_type": "markdown",
   "source": [
    "# login\r\n"
   ],
   "metadata": {}
  },
  {
   "cell_type": "code",
   "execution_count": null,
   "source": [
    "driver.find_element_by_xpath('//*[@id=\"username\"]').send_keys('master')\r\n",
    "driver.find_element_by_xpath('//*[@id=\"password\"]').send_keys('iq@4p')\r\n",
    "driver.find_element_by_xpath('//*[@id=\"password\"]').send_keys(Keys.ENTER)\r\n",
    "sleep(5)"
   ],
   "outputs": [],
   "metadata": {}
  },
  {
   "cell_type": "markdown",
   "source": [
    "# Entrando no ambiente de books\r\n"
   ],
   "metadata": {}
  },
  {
   "cell_type": "code",
   "execution_count": null,
   "source": [
    "# Selecionar book de fotos\r\n",
    "driver.find_element_by_xpath(\"//a[@href='/CenterWeb/ureport']\").click()"
   ],
   "outputs": [],
   "metadata": {}
  },
  {
   "cell_type": "markdown",
   "source": [
    "# Selecionando Filtro\r\n"
   ],
   "metadata": {}
  },
  {
   "cell_type": "code",
   "execution_count": null,
   "source": [
    "driver.switch_to.frame(0)\r\n",
    "driver.find_element_by_xpath('//*[@id=\"filterPanel\"]/div[1]/div[2]/div[2]/div/button').click()  # clicar no filtro\r\n",
    "driver.find_element_by_xpath( '//*[@id=\"filterPanel\"]/div[1]/div[2]/div[2]/div/ul/li[4]/a/label/input').click()  # Selecionar o filtro\r\n",
    "\r\n"
   ],
   "outputs": [],
   "metadata": {}
  },
  {
   "cell_type": "markdown",
   "source": [
    "# Definindo data"
   ],
   "metadata": {}
  },
  {
   "cell_type": "code",
   "execution_count": null,
   "source": [
    "data = datetime.now()\r\n",
    "\r\n",
    "if datetime.today().weekday() != 0:\r\n",
    "    data += timedelta(days=-1)\r\n",
    "\r\n",
    "else:\r\n",
    "    data += timedelta(days=-2)\r\n",
    "\r\n",
    "data = (format(data, \"%d/%m/%Y\"))\r\n",
    "\r\n",
    "driver.find_element_by_xpath('//*[@id=\"initial-period-filter\"]').click()\r\n",
    "driver.find_element_by_xpath('//*[@id=\"initial-period-filter\"]').clear()\r\n",
    "driver.find_element_by_xpath('//*[@id=\"initial-period-filter\"]').send_keys(data)\r\n",
    "driver.find_element_by_xpath('//*[@id=\"final-period-filter\"]').click()\r\n",
    "driver.find_element_by_xpath('//*[@id=\"final-period-filter\"]').clear()\r\n",
    "driver.find_element_by_xpath('//*[@id=\"final-period-filter\"]').send_keys(data)"
   ],
   "outputs": [],
   "metadata": {}
  },
  {
   "cell_type": "markdown",
   "source": [
    "# Método "
   ],
   "metadata": {}
  },
  {
   "cell_type": "code",
   "execution_count": null,
   "source": [
    "def check_exists_by_class_name(name):\r\n",
    "    try:\r\n",
    "        driver.find_element_by_class_name(name)\r\n",
    "    except NoSuchElementException:\r\n",
    "        return False\r\n",
    "    return True"
   ],
   "outputs": [],
   "metadata": {}
  },
  {
   "cell_type": "markdown",
   "source": [
    "# Definindo Locais"
   ],
   "metadata": {}
  },
  {
   "cell_type": "code",
   "execution_count": null,
   "source": [
    "\r\n",
    "locais = [\"alvo\",\"dom\",\"o bom\",\"assai\"]\r\n",
    "\r\n",
    "for local in track(locais,'fazendo books...'):\r\n",
    "        driver.find_element_by_xpath('//*[@id=\"filterPanel\"]/div[6]/div[1]/div[2]/div/button').click()\r\n",
    "        for n in range(0,2):\r\n",
    "                driver.find_element_by_xpath('//*[@id=\"filterPanel\"]/div[6]/div[1]/div[2]/div/ul/li[2]/a/label/input').click()\r\n",
    "        driver.find_element_by_xpath('//*[@id=\"filterPanel\"]/div[6]/div[1]/div[2]/div/ul/li[1]/div/input').click()\r\n",
    "        driver.find_element_by_xpath('//*[@id=\"filterPanel\"]/div[6]/div[1]/div[2]/div/ul/li[1]/div/input').clear()\r\n",
    "        driver.find_element_by_xpath('//*[@id=\"filterPanel\"]/div[6]/div[1]/div[2]/div/ul/li[1]/div/input').send_keys(local)\r\n",
    "        sleep(2)\r\n",
    "        driver.find_element_by_xpath('//*[@id=\"filterPanel\"]/div[6]/div[1]/div[2]/div/ul/li[3]/a/label/input').click() #checkbox dom\r\n",
    "        sleep(2)\r\n",
    "        driver.find_element_by_xpath('//*[@id=\"btnFilter\"]').click() #clica em filtrar\r\n",
    "        sleep(2)\r\n",
    "        if check_exists_by_class_name('nm-tag'):\r\n",
    "            print('entrou no if')\r\n",
    "            continue\r\n",
    "        sleep(3) \r\n",
    "        driver.find_element_by_xpath('//*[@id=\"select_photo\"]').click()  # selecionar todas as fotos\r\n",
    "        sleep(3)\r\n",
    "        try:\r\n",
    "            selecionar_todas = driver.find_element_by_xpath('//*[@id=\"select_all_images\"]/a')\r\n",
    "        except Exception:\r\n",
    "            print(\"Elemento não localizado!\")\r\n",
    "        print(selecionar_todas.text)\r\n",
    "        \r\n",
    "        bufQuantidadeImagens = str(selecionar_todas.text).split(\" \")\r\n",
    "        if len(bufQuantidadeImagens) == 8:\r\n",
    "            texto = (str(selecionar_todas.text).split(\" \"))\r\n",
    "            quantidadeImagens = int(texto[6])\r\n",
    "            print (quantidadeImagens)\r\n",
    "            if (quantidadeImagens > 10):\r\n",
    "                selecionar_todas.click()\r\n",
    "        else:\r\n",
    "            raise Exception(\"\")\r\n",
    "\r\n",
    "        driver.find_element_by_xpath('//*[@id=\"photo\"]/div[2]/div[3]/div/div/button').click()\r\n",
    "        sleep(2)\r\n",
    "        driver.back()  # volta para pagina anterior\r\n",
    "        wdw.until(frame_to_be_available_and_switch_to_it)\r\n",
    "        driver.switch_to.frame(0)\r\n",
    "        \r\n",
    "       \r\n"
   ],
   "outputs": [],
   "metadata": {}
  },
  {
   "cell_type": "code",
   "execution_count": null,
   "source": [
    "print(check_exists_by_class_name('nm-tag'))\r\n",
    "\r\n"
   ],
   "outputs": [],
   "metadata": {}
  }
 ],
 "metadata": {
  "orig_nbformat": 4,
  "language_info": {
   "name": "python",
   "version": "3.8.8",
   "mimetype": "text/x-python",
   "codemirror_mode": {
    "name": "ipython",
    "version": 3
   },
   "pygments_lexer": "ipython3",
   "nbconvert_exporter": "python",
   "file_extension": ".py"
  },
  "kernelspec": {
   "name": "python3",
   "display_name": "Python 3.8.8 64-bit ('base': conda)"
  },
  "interpreter": {
   "hash": "74ab7c6ffe6706754a8af46cc4d18eebe476c74ce21a19282f620e1b1e9919fe"
  }
 },
 "nbformat": 4,
 "nbformat_minor": 2
}